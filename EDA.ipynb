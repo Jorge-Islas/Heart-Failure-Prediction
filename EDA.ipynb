{
 "cells": [
  {
   "cell_type": "markdown",
   "metadata": {},
   "source": [
    "# Análisis exploratorio de datos\n",
    "\n",
    "**Objetivos**:\n",
    "\n",
    "1. Encontrar irregularidades en los datos y determinar qué transformaciones efectuar\n",
    "\n",
    "    - Duplicados\n",
    "    - Valores faltantes\n",
    "    - Posibles errores de registro de datos\n",
    "    - Imbalance de clases\n",
    "\n",
    "2. Encontrar relaciones entre variables\n",
    "\n",
    "    - Predictora - Objetivo\n",
    "    - Predictora - Predictora"
   ]
  },
  {
   "cell_type": "code",
   "execution_count": 1,
   "metadata": {},
   "outputs": [],
   "source": [
    "import pandas as pd\n",
    "import matplotlib.pyplot as plt\n",
    "import seaborn as sns\n",
    "\n",
    "from sklearn.model_selection import train_test_split"
   ]
  },
  {
   "cell_type": "code",
   "execution_count": 2,
   "metadata": {},
   "outputs": [],
   "source": [
    "sns.set()"
   ]
  },
  {
   "cell_type": "markdown",
   "metadata": {},
   "source": [
    "## Cargar datos"
   ]
  },
  {
   "cell_type": "code",
   "execution_count": 3,
   "metadata": {},
   "outputs": [
    {
     "data": {
      "text/html": [
       "<div>\n",
       "<style scoped>\n",
       "    .dataframe tbody tr th:only-of-type {\n",
       "        vertical-align: middle;\n",
       "    }\n",
       "\n",
       "    .dataframe tbody tr th {\n",
       "        vertical-align: top;\n",
       "    }\n",
       "\n",
       "    .dataframe thead th {\n",
       "        text-align: right;\n",
       "    }\n",
       "</style>\n",
       "<table border=\"1\" class=\"dataframe\">\n",
       "  <thead>\n",
       "    <tr style=\"text-align: right;\">\n",
       "      <th></th>\n",
       "      <th>Age</th>\n",
       "      <th>Sex</th>\n",
       "      <th>ChestPainType</th>\n",
       "      <th>RestingBP</th>\n",
       "      <th>Cholesterol</th>\n",
       "      <th>FastingBS</th>\n",
       "      <th>RestingECG</th>\n",
       "      <th>MaxHR</th>\n",
       "      <th>ExerciseAngina</th>\n",
       "      <th>Oldpeak</th>\n",
       "      <th>ST_Slope</th>\n",
       "      <th>HeartDisease</th>\n",
       "    </tr>\n",
       "  </thead>\n",
       "  <tbody>\n",
       "    <tr>\n",
       "      <th>0</th>\n",
       "      <td>40</td>\n",
       "      <td>M</td>\n",
       "      <td>ATA</td>\n",
       "      <td>140</td>\n",
       "      <td>289</td>\n",
       "      <td>0</td>\n",
       "      <td>Normal</td>\n",
       "      <td>172</td>\n",
       "      <td>N</td>\n",
       "      <td>0.0</td>\n",
       "      <td>Up</td>\n",
       "      <td>0</td>\n",
       "    </tr>\n",
       "    <tr>\n",
       "      <th>1</th>\n",
       "      <td>49</td>\n",
       "      <td>F</td>\n",
       "      <td>NAP</td>\n",
       "      <td>160</td>\n",
       "      <td>180</td>\n",
       "      <td>0</td>\n",
       "      <td>Normal</td>\n",
       "      <td>156</td>\n",
       "      <td>N</td>\n",
       "      <td>1.0</td>\n",
       "      <td>Flat</td>\n",
       "      <td>1</td>\n",
       "    </tr>\n",
       "    <tr>\n",
       "      <th>2</th>\n",
       "      <td>37</td>\n",
       "      <td>M</td>\n",
       "      <td>ATA</td>\n",
       "      <td>130</td>\n",
       "      <td>283</td>\n",
       "      <td>0</td>\n",
       "      <td>ST</td>\n",
       "      <td>98</td>\n",
       "      <td>N</td>\n",
       "      <td>0.0</td>\n",
       "      <td>Up</td>\n",
       "      <td>0</td>\n",
       "    </tr>\n",
       "    <tr>\n",
       "      <th>3</th>\n",
       "      <td>48</td>\n",
       "      <td>F</td>\n",
       "      <td>ASY</td>\n",
       "      <td>138</td>\n",
       "      <td>214</td>\n",
       "      <td>0</td>\n",
       "      <td>Normal</td>\n",
       "      <td>108</td>\n",
       "      <td>Y</td>\n",
       "      <td>1.5</td>\n",
       "      <td>Flat</td>\n",
       "      <td>1</td>\n",
       "    </tr>\n",
       "    <tr>\n",
       "      <th>4</th>\n",
       "      <td>54</td>\n",
       "      <td>M</td>\n",
       "      <td>NAP</td>\n",
       "      <td>150</td>\n",
       "      <td>195</td>\n",
       "      <td>0</td>\n",
       "      <td>Normal</td>\n",
       "      <td>122</td>\n",
       "      <td>N</td>\n",
       "      <td>0.0</td>\n",
       "      <td>Up</td>\n",
       "      <td>0</td>\n",
       "    </tr>\n",
       "  </tbody>\n",
       "</table>\n",
       "</div>"
      ],
      "text/plain": [
       "   Age Sex ChestPainType  RestingBP  Cholesterol  FastingBS RestingECG  MaxHR  \\\n",
       "0   40   M           ATA        140          289          0     Normal    172   \n",
       "1   49   F           NAP        160          180          0     Normal    156   \n",
       "2   37   M           ATA        130          283          0         ST     98   \n",
       "3   48   F           ASY        138          214          0     Normal    108   \n",
       "4   54   M           NAP        150          195          0     Normal    122   \n",
       "\n",
       "  ExerciseAngina  Oldpeak ST_Slope  HeartDisease  \n",
       "0              N      0.0       Up             0  \n",
       "1              N      1.0     Flat             1  \n",
       "2              N      0.0       Up             0  \n",
       "3              Y      1.5     Flat             1  \n",
       "4              N      0.0       Up             0  "
      ]
     },
     "execution_count": 3,
     "metadata": {},
     "output_type": "execute_result"
    }
   ],
   "source": [
    "datos = pd.read_csv(\"datos/heart.csv\")\n",
    "datos.head()"
   ]
  },
  {
   "cell_type": "markdown",
   "metadata": {},
   "source": [
    "## Revisar integridad de datos"
   ]
  },
  {
   "cell_type": "code",
   "execution_count": 67,
   "metadata": {},
   "outputs": [
    {
     "data": {
      "text/plain": [
       "(0,\n",
       " Empty DataFrame\n",
       " Columns: [Age, Sex, ChestPainType, RestingBP, Cholesterol, FastingBS, RestingECG, MaxHR, ExerciseAngina, Oldpeak, ST_Slope, size]\n",
       " Index: [],\n",
       "      Age Sex ChestPainType  RestingBP  Cholesterol  FastingBS RestingECG  \\\n",
       " 0     40   M           ATA        140          289          0     Normal   \n",
       " 1     49   F           NAP        160          180          0     Normal   \n",
       " 2     37   M           ATA        130          283          0         ST   \n",
       " 3     48   F           ASY        138          214          0     Normal   \n",
       " 4     54   M           NAP        150          195          0     Normal   \n",
       " ..   ...  ..           ...        ...          ...        ...        ...   \n",
       " 913   45   M            TA        110          264          0     Normal   \n",
       " 914   68   M           ASY        144          193          1     Normal   \n",
       " 915   57   M           ASY        130          131          0     Normal   \n",
       " 916   57   F           ATA        130          236          0        LVH   \n",
       " 917   38   M           NAP        138          175          0     Normal   \n",
       " \n",
       "      MaxHR ExerciseAngina  Oldpeak ST_Slope  HeartDisease  \n",
       " 0      172              N      0.0       Up             0  \n",
       " 1      156              N      1.0     Flat             1  \n",
       " 2       98              N      0.0       Up             0  \n",
       " 3      108              Y      1.5     Flat             1  \n",
       " 4      122              N      0.0       Up             0  \n",
       " ..     ...            ...      ...      ...           ...  \n",
       " 913    132              N      1.2     Flat             1  \n",
       " 914    141              N      3.4     Flat             1  \n",
       " 915    115              Y      1.2     Flat             1  \n",
       " 916    174              N      0.0     Flat             1  \n",
       " 917    173              N      0.0       Up             0  \n",
       " \n",
       " [918 rows x 12 columns])"
      ]
     },
     "execution_count": 67,
     "metadata": {},
     "output_type": "execute_result"
    }
   ],
   "source": [
    "# Datos duplicados\n",
    "def obtener_duplicados(datos, mantener_ultima_col=True, mantener_duplicado='first'):\n",
    "    subset = datos.columns if mantener_ultima_col else datos.columns[:-1]\n",
    "\n",
    "    duplicados = datos.duplicated(subset=subset,keep=False)\n",
    "    datos_duplicados = datos[duplicados].groupby(by=list(subset),as_index=False).size()\n",
    "\n",
    "    num_registros_con_duplicados = datos_duplicados.shape[0]\n",
    "\n",
    "    return num_registros_con_duplicados, datos_duplicados, datos.drop_duplicates(subset=subset, mantener_duplicado='first')\n",
    "\n",
    "obtener_duplicados(datos, mantener_ultima_col=False)"
   ]
  },
  {
   "cell_type": "code",
   "execution_count": 69,
   "metadata": {},
   "outputs": [
    {
     "data": {
      "text/plain": [
       "(3,\n",
       "    col1  col2  col3  size\n",
       " 0     0     0     0     3\n",
       " 1     0     1     0     5\n",
       " 2     1     1     1     2,\n",
       "    col1  col2  col3\n",
       " 0     1     1     1\n",
       " 2     1     1     0\n",
       " 3     1     0     1\n",
       " 4     1     0     0\n",
       " 5     0     1     0\n",
       " 6     0     1     1\n",
       " 7     0     0     1\n",
       " 8     0     0     0)"
      ]
     },
     "execution_count": 69,
     "metadata": {},
     "output_type": "execute_result"
    }
   ],
   "source": [
    "caca = pd.read_csv(\"datos/tmp.csv\")\n",
    "obtener_duplicados(caca)"
   ]
  },
  {
   "cell_type": "markdown",
   "metadata": {},
   "source": [
    "## Separar conjuntos de entrenamiento y prueba"
   ]
  },
  {
   "cell_type": "code",
   "execution_count": 4,
   "metadata": {},
   "outputs": [],
   "source": [
    "X = datos.iloc[:,:-1]\n",
    "y = datos.iloc[:,-1]\n",
    "\n",
    "X_train, X_test, y_train, y_test = train_test_split(\n",
    "    X, y,\n",
    "    test_size=0.2,\n",
    "    random_state=42,\n",
    "    shuffle=True,\n",
    "    stratify=y\n",
    ")"
   ]
  },
  {
   "cell_type": "markdown",
   "metadata": {},
   "source": [
    "## Explorar datos de entrenamiento"
   ]
  },
  {
   "cell_type": "code",
   "execution_count": null,
   "metadata": {},
   "outputs": [],
   "source": [
    "df = X.copy()\n",
    "df['HeartDisease'] = y.copy()\n",
    "sns.pairplot(\n",
    "    df, hue='HeartDisease',\n",
    "    kind='scatter',\n",
    "    diag_kind='hist'\n",
    ")\n",
    "plt.show()"
   ]
  },
  {
   "cell_type": "code",
   "execution_count": null,
   "metadata": {},
   "outputs": [],
   "source": []
  }
 ],
 "metadata": {
  "kernelspec": {
   "display_name": "code",
   "language": "python",
   "name": "python3"
  },
  "language_info": {
   "codemirror_mode": {
    "name": "ipython",
    "version": 3
   },
   "file_extension": ".py",
   "mimetype": "text/x-python",
   "name": "python",
   "nbconvert_exporter": "python",
   "pygments_lexer": "ipython3",
   "version": "3.12.3"
  }
 },
 "nbformat": 4,
 "nbformat_minor": 2
}
